{
 "cells": [
  {
   "cell_type": "code",
   "execution_count": 24,
   "metadata": {},
   "outputs": [],
   "source": [
    "from benchmarking import Timer, timer\n",
    "import xarray as xr\n",
    "import iris\n",
    "# import geopandas\n",
    "import perfplot\n",
    "import timeit\n",
    "import itertools\n",
    "import warnings\n",
    "warnings.filterwarnings('ignore')\n",
    "import numpy as np"
   ]
  },
  {
   "cell_type": "code",
   "execution_count": 21,
   "metadata": {},
   "outputs": [],
   "source": [
    "months = ['ja','fb','mr','ar','my','jn','jl','ag','sp','ot','nv','dc']"
   ]
  },
  {
   "cell_type": "markdown",
   "metadata": {},
   "source": [
    "## Opening and storing dataset"
   ]
  },
  {
   "cell_type": "markdown",
   "metadata": {},
   "source": [
    "### Timeit"
   ]
  },
  {
   "cell_type": "code",
   "execution_count": 35,
   "metadata": {},
   "outputs": [
    {
     "name": "stdout",
     "output_type": "stream",
     "text": [
      "__1 month\n",
      "____IRIS\n",
      "313 ms ± 956 µs per loop (mean ± std. dev. of 7 runs, 1 loop each)\n",
      "____XARRAY\n",
      "19.8 ms ± 107 µs per loop (mean ± std. dev. of 7 runs, 100 loops each)\n",
      "____XARRAYMF\n",
      "35 ms ± 149 µs per loop (mean ± std. dev. of 7 runs, 10 loops each)\n",
      "____GEOPANDAS\n",
      "__1 year\n",
      "____IRIS\n",
      "4.99 s ± 5.48 ms per loop (mean ± std. dev. of 7 runs, 1 loop each)\n",
      "____XARRAY\n",
      "236 ms ± 612 µs per loop (mean ± std. dev. of 7 runs, 1 loop each)\n",
      "____XARRAYMF\n",
      "485 ms ± 572 µs per loop (mean ± std. dev. of 7 runs, 1 loop each)\n",
      "____GEOPANDAS\n",
      "__2 years\n",
      "____IRIS\n",
      "12.6 s ± 62.1 ms per loop (mean ± std. dev. of 7 runs, 1 loop each)\n",
      "____XARRAY\n",
      "474 ms ± 1.79 ms per loop (mean ± std. dev. of 7 runs, 1 loop each)\n",
      "____XARRAYMF\n",
      "953 ms ± 11.2 ms per loop (mean ± std. dev. of 7 runs, 1 loop each)\n",
      "____GEOPANDAS\n",
      "__5 years\n",
      "____IRIS\n",
      "51.1 s ± 66.4 ms per loop (mean ± std. dev. of 7 runs, 1 loop each)\n",
      "____XARRAY\n",
      "1.2 s ± 10.5 ms per loop (mean ± std. dev. of 7 runs, 1 loop each)\n",
      "____XARRAYMF\n",
      "2.34 s ± 17.7 ms per loop (mean ± std. dev. of 7 runs, 1 loop each)\n",
      "____GEOPANDAS\n",
      "__Time serie\n",
      "____IRIS\n",
      "20.3 ms ± 1.15 ms per loop (mean ± std. dev. of 7 runs, 1 loop each)\n",
      "____XARRAY\n",
      "28.8 ms ± 55.9 µs per loop (mean ± std. dev. of 7 runs, 10 loops each)\n",
      "____XARRAYMF\n",
      "31.3 ms ± 61.8 µs per loop (mean ± std. dev. of 7 runs, 10 loops each)\n",
      "____GEOPANDAS\n"
     ]
    }
   ],
   "source": [
    "print(\"__1 month\")\n",
    "path = \"/nfs/annie/eeymr/work/um/xosfa/pcpd/xosfaa#pd000003001ja+.nc\"\n",
    "print(\"____IRIS\")\n",
    "%timeit iris.load(path)\n",
    "print(\"____XARRAY\")\n",
    "%timeit xr.open_dataset(path)\n",
    "print(\"____XARRAYMF\")\n",
    "%timeit xr.open_mfdataset(path)\n",
    "print(\"____GEOPANDAS\")\n",
    "# %timeit geopandas.read_file(path)\n",
    "\n",
    "print(\"__1 year\")\n",
    "# 1 year\n",
    "paths = [f\"/nfs/annie/eeymr/work/um/xosfa/pcpd/xosfaa#pd000003001{month}+.nc\" for month in months]\n",
    "print(\"____IRIS\")\n",
    "%timeit iris.load(paths)\n",
    "print(\"____XARRAY\")\n",
    "%timeit [xr.open_dataset(path) for path in paths]\n",
    "print(\"____XARRAYMF\")\n",
    "%timeit xr.open_mfdataset(paths)\n",
    "print(\"____GEOPANDAS\")\n",
    "# %timeit geopandas.read_file(paths)\n",
    "\n",
    "print(\"__2 years\")\n",
    "# 2 years\n",
    "years = range(3001,3003)\n",
    "paths = [[f\"/nfs/annie/eeymr/work/um/xosfa/pcpd/xosfaa#pd00000{year}{month}+.nc\" for month in months] for year in years]\n",
    "print(\"____IRIS\")\n",
    "%timeit iris.load(list(y for x in paths for y in x))\n",
    "print(\"____XARRAY\")\n",
    "%timeit [[xr.open_dataset(path) for path in paths[i]] for i in range(len(paths))]\n",
    "print(\"____XARRAYMF\")\n",
    "%timeit xr.open_mfdataset(paths)\n",
    "print(\"____GEOPANDAS\")\n",
    "# %timeit geopandas.read_file(paths)\n",
    "\n",
    "print(\"__5 years\")\n",
    "# 5 years\n",
    "years = range(3001,3006)\n",
    "paths = [[f\"/nfs/annie/eeymr/work/um/xosfa/pcpd/xosfaa#pd00000{year}{month}+.nc\" for month in months] for year in years]\n",
    "print(\"____IRIS\")\n",
    "%timeit iris.load(list(y for x in paths for y in x))\n",
    "print(\"____XARRAY\")\n",
    "%timeit [[xr.open_dataset(path) for path in paths[i]] for i in range(len(paths))]\n",
    "print(\"____XARRAYMF\")\n",
    "%timeit xr.open_mfdataset(paths)\n",
    "print(\"____GEOPANDAS\")\n",
    "# %timeit geopandas.read_file(paths)\n",
    "\n",
    "print(\"__Time serie\")\n",
    "path = \"/nfs/see-fs-01_users/eeymr/database/xosfa/time_series/xosfa.iceconc.monthly.nc\"\n",
    "print(\"____IRIS\")\n",
    "%timeit iris.load(path)\n",
    "print(\"____XARRAY\")\n",
    "%timeit xr.open_dataset(path)\n",
    "print(\"____XARRAYMF\")\n",
    "%timeit xr.open_mfdataset(path)\n",
    "print(\"____GEOPANDAS\")\n",
    "# %timeit geopandas.read_file(path)"
   ]
  },
  {
   "cell_type": "markdown",
   "metadata": {},
   "source": [
    "## Operation"
   ]
  },
  {
   "cell_type": "code",
   "execution_count": 14,
   "metadata": {},
   "outputs": [],
   "source": [
    "## return mean sst over time"
   ]
  },
  {
   "cell_type": "code",
   "execution_count": 48,
   "metadata": {},
   "outputs": [],
   "source": [
    "years = range(3001,3003)\n",
    "paths = [[f\"/nfs/annie/eeymr/work/um/xosfa/pf/xosfao#pf00000{year}{month}+.nc\" for month in months] for year in years]\n",
    "ds_xr = [[xr.open_dataset(path) for path in paths[i]] for i in range(len(paths))]\n",
    "ds_mfxr = xr.open_mfdataset(paths)\n",
    "ds_iris = iris.load(list(y for x in paths for y in x))\n",
    "\n",
    "def xr_sst(ds_xr):\n",
    "    data = np.zeros((len(ds_xr), len(ds_xr[0]), len(ds_xr[0][0].latitude.values), len(ds_xr[0][0].longitude.values)))\n",
    "    for year in range(len(ds_xr)):\n",
    "        for month in range(len(ds_xr[0])):\n",
    "            data[year][month] = ds_xr[year][month].temp_mm_uo.isel(t=0).isel(unspecified=0).values\n",
    "    return data\n",
    "\n",
    "def mfxr_sst(ds_mfxr):\n",
    "    return ds_mfxr.temp_mm_uo.isel(unspecified=0).values\n",
    "\n",
    "def iris_sst()"
   ]
  },
  {
   "cell_type": "code",
   "execution_count": 57,
   "metadata": {},
   "outputs": [
    {
     "data": {
      "text/plain": [
       "array([cftime.Datetime360Day(3001-01-16 00:00:00),\n",
       "       cftime.Datetime360Day(3001-02-16 00:00:00),\n",
       "       cftime.Datetime360Day(3001-03-16 00:00:00),\n",
       "       cftime.Datetime360Day(3001-04-16 00:00:00),\n",
       "       cftime.Datetime360Day(3001-05-16 00:00:00),\n",
       "       cftime.Datetime360Day(3001-06-16 00:00:00),\n",
       "       cftime.Datetime360Day(3001-07-16 00:00:00),\n",
       "       cftime.Datetime360Day(3001-08-16 00:00:00),\n",
       "       cftime.Datetime360Day(3001-09-16 00:00:00),\n",
       "       cftime.Datetime360Day(3001-10-16 00:00:00),\n",
       "       cftime.Datetime360Day(3001-11-16 00:00:00),\n",
       "       cftime.Datetime360Day(3001-12-16 00:00:00),\n",
       "       cftime.Datetime360Day(3002-01-16 00:00:00),\n",
       "       cftime.Datetime360Day(3002-02-16 00:00:00),\n",
       "       cftime.Datetime360Day(3002-03-16 00:00:00),\n",
       "       cftime.Datetime360Day(3002-04-16 00:00:00),\n",
       "       cftime.Datetime360Day(3002-05-16 00:00:00),\n",
       "       cftime.Datetime360Day(3002-06-16 00:00:00),\n",
       "       cftime.Datetime360Day(3002-07-16 00:00:00),\n",
       "       cftime.Datetime360Day(3002-08-16 00:00:00),\n",
       "       cftime.Datetime360Day(3002-09-16 00:00:00),\n",
       "       cftime.Datetime360Day(3002-10-16 00:00:00),\n",
       "       cftime.Datetime360Day(3002-11-16 00:00:00),\n",
       "       cftime.Datetime360Day(3002-12-16 00:00:00)], dtype=object)"
      ]
     },
     "execution_count": 57,
     "metadata": {},
     "output_type": "execute_result"
    }
   ],
   "source": [
    "ds_mfxr.t.values"
   ]
  },
  {
   "cell_type": "code",
   "execution_count": 18,
   "metadata": {},
   "outputs": [],
   "source": [
    "def iris_load(n):\n",
    "    paths = [\"/nfs/annie/eeymr/work/um/xosfa/pcpd/xosfaa#pd000003001ja+.nc\"]*n\n",
    "    return iris.load(paths)"
   ]
  },
  {
   "cell_type": "code",
   "execution_count": 19,
   "metadata": {},
   "outputs": [
    {
     "name": "stderr",
     "output_type": "stream",
     "text": [
      "  0%|          | 0/9 [00:00<?, ?it/s]\n",
      "  0%|          | 0/1 [00:00<?, ?it/s]\u001b[A\n",
      "  0%|          | 0/9 [00:00<?, ?it/s]\u001b[A\n"
     ]
    },
    {
     "ename": "TypeError",
     "evalue": "ufunc 'isfinite' not supported for the input types, and the inputs could not be safely coerced to any supported types according to the casting rule ''safe''",
     "output_type": "error",
     "traceback": [
      "\u001b[0;31m---------------------------------------------------------------------------\u001b[0m",
      "\u001b[0;31mTypeError\u001b[0m                                 Traceback (most recent call last)",
      "\u001b[0;32m<ipython-input-19-9604e8186c98>\u001b[0m in \u001b[0;36m<module>\u001b[0;34m\u001b[0m\n\u001b[1;32m      6\u001b[0m     \u001b[0mlabels\u001b[0m\u001b[0;34m=\u001b[0m\u001b[0;34m[\u001b[0m\u001b[0;34m\"IRIS\"\u001b[0m\u001b[0;34m]\u001b[0m\u001b[0;34m,\u001b[0m\u001b[0;34m\u001b[0m\u001b[0;34m\u001b[0m\u001b[0m\n\u001b[1;32m      7\u001b[0m     \u001b[0mn_range\u001b[0m\u001b[0;34m=\u001b[0m\u001b[0;34m[\u001b[0m\u001b[0;36m12\u001b[0m \u001b[0;34m*\u001b[0m \u001b[0mk\u001b[0m \u001b[0;32mfor\u001b[0m \u001b[0mk\u001b[0m \u001b[0;32min\u001b[0m \u001b[0mrange\u001b[0m\u001b[0;34m(\u001b[0m\u001b[0;36m1\u001b[0m\u001b[0;34m,\u001b[0m\u001b[0;36m10\u001b[0m\u001b[0;34m)\u001b[0m\u001b[0;34m]\u001b[0m\u001b[0;34m,\u001b[0m\u001b[0;34m\u001b[0m\u001b[0;34m\u001b[0m\u001b[0m\n\u001b[0;32m----> 8\u001b[0;31m     \u001b[0mxlabel\u001b[0m\u001b[0;34m=\u001b[0m\u001b[0;34m\"len(a)\"\u001b[0m\u001b[0;34m,\u001b[0m\u001b[0;34m\u001b[0m\u001b[0;34m\u001b[0m\u001b[0m\n\u001b[0m\u001b[1;32m      9\u001b[0m     \u001b[0;31m# More optional arguments with their default values:\u001b[0m\u001b[0;34m\u001b[0m\u001b[0;34m\u001b[0m\u001b[0;34m\u001b[0m\u001b[0m\n\u001b[1;32m     10\u001b[0m     \u001b[0;31m# title=None,\u001b[0m\u001b[0;34m\u001b[0m\u001b[0;34m\u001b[0m\u001b[0;34m\u001b[0m\u001b[0m\n",
      "\u001b[0;32m~/.conda/envs/eeymr/lib/python3.7/site-packages/perfplot/main.py\u001b[0m in \u001b[0;36mshow\u001b[0;34m(time_unit, relative_to, logx, logy, automatic_order, *args, **kwargs)\u001b[0m\n\u001b[1;32m    313\u001b[0m     \u001b[0;34m**\u001b[0m\u001b[0mkwargs\u001b[0m\u001b[0;34m,\u001b[0m\u001b[0;34m\u001b[0m\u001b[0;34m\u001b[0m\u001b[0m\n\u001b[1;32m    314\u001b[0m ):\n\u001b[0;32m--> 315\u001b[0;31m     \u001b[0mout\u001b[0m \u001b[0;34m=\u001b[0m \u001b[0mbench\u001b[0m\u001b[0;34m(\u001b[0m\u001b[0;34m*\u001b[0m\u001b[0margs\u001b[0m\u001b[0;34m,\u001b[0m \u001b[0;34m**\u001b[0m\u001b[0mkwargs\u001b[0m\u001b[0;34m)\u001b[0m\u001b[0;34m\u001b[0m\u001b[0;34m\u001b[0m\u001b[0m\n\u001b[0m\u001b[1;32m    316\u001b[0m     out.show(\n\u001b[1;32m    317\u001b[0m         \u001b[0mtime_unit\u001b[0m\u001b[0;34m=\u001b[0m\u001b[0mtime_unit\u001b[0m\u001b[0;34m,\u001b[0m\u001b[0;34m\u001b[0m\u001b[0;34m\u001b[0m\u001b[0m\n",
      "\u001b[0;32m~/.conda/envs/eeymr/lib/python3.7/site-packages/perfplot/main.py\u001b[0m in \u001b[0;36mbench\u001b[0;34m(setup, kernels, n_range, flops, labels, colors, xlabel, title, target_time_per_measurement, equality_check)\u001b[0m\n\u001b[1;32m    212\u001b[0m                     )\n\u001b[1;32m    213\u001b[0m                     assert equality_check(\n\u001b[0;32m--> 214\u001b[0;31m                         \u001b[0mrelative_to\u001b[0m\u001b[0;34m,\u001b[0m \u001b[0mkernel\u001b[0m\u001b[0;34m(\u001b[0m\u001b[0mdata\u001b[0m\u001b[0;34m)\u001b[0m\u001b[0;34m\u001b[0m\u001b[0;34m\u001b[0m\u001b[0m\n\u001b[0m\u001b[1;32m    215\u001b[0m                     ), \"Equality check failure. ({}, {})\".format(labels[0], labels[k])\n\u001b[1;32m    216\u001b[0m \u001b[0;34m\u001b[0m\u001b[0m\n",
      "\u001b[0;32m<__array_function__ internals>\u001b[0m in \u001b[0;36mallclose\u001b[0;34m(*args, **kwargs)\u001b[0m\n",
      "\u001b[0;32m~/.conda/envs/eeymr/lib/python3.7/site-packages/numpy/core/numeric.py\u001b[0m in \u001b[0;36mallclose\u001b[0;34m(a, b, rtol, atol, equal_nan)\u001b[0m\n\u001b[1;32m   2169\u001b[0m \u001b[0;34m\u001b[0m\u001b[0m\n\u001b[1;32m   2170\u001b[0m     \"\"\"\n\u001b[0;32m-> 2171\u001b[0;31m     \u001b[0mres\u001b[0m \u001b[0;34m=\u001b[0m \u001b[0mall\u001b[0m\u001b[0;34m(\u001b[0m\u001b[0misclose\u001b[0m\u001b[0;34m(\u001b[0m\u001b[0ma\u001b[0m\u001b[0;34m,\u001b[0m \u001b[0mb\u001b[0m\u001b[0;34m,\u001b[0m \u001b[0mrtol\u001b[0m\u001b[0;34m=\u001b[0m\u001b[0mrtol\u001b[0m\u001b[0;34m,\u001b[0m \u001b[0matol\u001b[0m\u001b[0;34m=\u001b[0m\u001b[0matol\u001b[0m\u001b[0;34m,\u001b[0m \u001b[0mequal_nan\u001b[0m\u001b[0;34m=\u001b[0m\u001b[0mequal_nan\u001b[0m\u001b[0;34m)\u001b[0m\u001b[0;34m)\u001b[0m\u001b[0;34m\u001b[0m\u001b[0;34m\u001b[0m\u001b[0m\n\u001b[0m\u001b[1;32m   2172\u001b[0m     \u001b[0;32mreturn\u001b[0m \u001b[0mbool\u001b[0m\u001b[0;34m(\u001b[0m\u001b[0mres\u001b[0m\u001b[0;34m)\u001b[0m\u001b[0;34m\u001b[0m\u001b[0;34m\u001b[0m\u001b[0m\n\u001b[1;32m   2173\u001b[0m \u001b[0;34m\u001b[0m\u001b[0m\n",
      "\u001b[0;32m<__array_function__ internals>\u001b[0m in \u001b[0;36misclose\u001b[0;34m(*args, **kwargs)\u001b[0m\n",
      "\u001b[0;32m~/.conda/envs/eeymr/lib/python3.7/site-packages/numpy/core/numeric.py\u001b[0m in \u001b[0;36misclose\u001b[0;34m(a, b, rtol, atol, equal_nan)\u001b[0m\n\u001b[1;32m   2267\u001b[0m     \u001b[0my\u001b[0m \u001b[0;34m=\u001b[0m \u001b[0marray\u001b[0m\u001b[0;34m(\u001b[0m\u001b[0my\u001b[0m\u001b[0;34m,\u001b[0m \u001b[0mdtype\u001b[0m\u001b[0;34m=\u001b[0m\u001b[0mdt\u001b[0m\u001b[0;34m,\u001b[0m \u001b[0mcopy\u001b[0m\u001b[0;34m=\u001b[0m\u001b[0;32mFalse\u001b[0m\u001b[0;34m,\u001b[0m \u001b[0msubok\u001b[0m\u001b[0;34m=\u001b[0m\u001b[0;32mTrue\u001b[0m\u001b[0;34m)\u001b[0m\u001b[0;34m\u001b[0m\u001b[0;34m\u001b[0m\u001b[0m\n\u001b[1;32m   2268\u001b[0m \u001b[0;34m\u001b[0m\u001b[0m\n\u001b[0;32m-> 2269\u001b[0;31m     \u001b[0mxfin\u001b[0m \u001b[0;34m=\u001b[0m \u001b[0misfinite\u001b[0m\u001b[0;34m(\u001b[0m\u001b[0mx\u001b[0m\u001b[0;34m)\u001b[0m\u001b[0;34m\u001b[0m\u001b[0;34m\u001b[0m\u001b[0m\n\u001b[0m\u001b[1;32m   2270\u001b[0m     \u001b[0myfin\u001b[0m \u001b[0;34m=\u001b[0m \u001b[0misfinite\u001b[0m\u001b[0;34m(\u001b[0m\u001b[0my\u001b[0m\u001b[0;34m)\u001b[0m\u001b[0;34m\u001b[0m\u001b[0;34m\u001b[0m\u001b[0m\n\u001b[1;32m   2271\u001b[0m     \u001b[0;32mif\u001b[0m \u001b[0mall\u001b[0m\u001b[0;34m(\u001b[0m\u001b[0mxfin\u001b[0m\u001b[0;34m)\u001b[0m \u001b[0;32mand\u001b[0m \u001b[0mall\u001b[0m\u001b[0;34m(\u001b[0m\u001b[0myfin\u001b[0m\u001b[0;34m)\u001b[0m\u001b[0;34m:\u001b[0m\u001b[0;34m\u001b[0m\u001b[0;34m\u001b[0m\u001b[0m\n",
      "\u001b[0;31mTypeError\u001b[0m: ufunc 'isfinite' not supported for the input types, and the inputs could not be safely coerced to any supported types according to the casting rule ''safe''"
     ]
    }
   ],
   "source": [
    "perfplot.show(\n",
    "    setup=lambda n: n,\n",
    "    kernels=[\n",
    "        iris_load\n",
    "    ],\n",
    "    labels=[\"IRIS\"],\n",
    "    n_range=[12 * k for k in range(1,10)],\n",
    "    xlabel=\"len(a)\",\n",
    "    # More optional arguments with their default values:\n",
    "    # title=None,\n",
    "    # logx=\"auto\",  # set to True or False to force scaling\n",
    "    # logy=\"auto\",\n",
    "    # equality_check=numpy.allclose,  # set to None to disable \"correctness\" assertion\n",
    "    # automatic_order=True,\n",
    "    # colors=None,\n",
    "    # target_time_per_measurement=1.0,\n",
    "    # time_unit=\"s\",  # set to one of (\"auto\", \"s\", \"ms\", \"us\", or \"ns\") to force plot units\n",
    "    # relative_to=1,  # plot the timings relative to one of the measurements\n",
    "    # flops=lambda n: 3*n,  # FLOPS plots\n",
    ")"
   ]
  },
  {
   "cell_type": "code",
   "execution_count": null,
   "metadata": {},
   "outputs": [],
   "source": []
  },
  {
   "cell_type": "markdown",
   "metadata": {},
   "source": [
    "### Operations"
   ]
  },
  {
   "cell_type": "code",
   "execution_count": null,
   "metadata": {},
   "outputs": [],
   "source": []
  }
 ],
 "metadata": {
  "kernelspec": {
   "display_name": "Python 3",
   "language": "python",
   "name": "python3"
  },
  "language_info": {
   "codemirror_mode": {
    "name": "ipython",
    "version": 3
   },
   "file_extension": ".py",
   "mimetype": "text/x-python",
   "name": "python",
   "nbconvert_exporter": "python",
   "pygments_lexer": "ipython3",
   "version": "3.7.3"
  }
 },
 "nbformat": 4,
 "nbformat_minor": 2
}
