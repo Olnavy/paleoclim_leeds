{
 "cells": [
  {
   "cell_type": "code",
   "execution_count": 1,
   "metadata": {},
   "outputs": [],
   "source": [
    "import numpy as np\n",
    "import xarray as xr\n",
    "import matplotlib.pyplot as plt\n",
    "import SCM6\n",
    "import cartopy.crs as ccrs\n",
    "import matplotlib.colors as colors\n",
    "import paleoclim_leeds.hadcm3_processing as hcm3\n",
    "import paleoclim_leeds.zones as zones"
   ]
  },
  {
   "cell_type": "markdown",
   "metadata": {},
   "source": [
    "# BUGS"
   ]
  },
  {
   "cell_type": "code",
   "execution_count": 2,
   "metadata": {},
   "outputs": [
    {
     "name": "stdout",
     "output_type": "stream",
     "text": [
      "__ Importation of <class 'paleoclim_leeds.hadcm3_processing.SATMTS'> : xosfa between years 2552 and 6192.\n",
      "Time elapsed for open_dataset : 0.2510190010070801\n",
      "Time elapsed for crop start year : 2.8074915409088135\n",
      "Time elapsed for crop start and end years : 4.101700067520142\n",
      "Time elapsed for crop start and end years and months : 49.80921220779419\n",
      "____ Import succeeded.\n",
      "____ Coordinates imported in the HadCM3DS dataset.\n",
      "__ Importing SAT.\n",
      "____ Coordinate imported in the GeoDataArray instance.\n",
      "____ New longitude value : 318.75\n",
      "____ New latitude value : 75.0\n"
     ]
    }
   ],
   "source": [
    "ts = hcm3.SATMTS(\"xosfa\", 2552, 6192)\n",
    "ngrip_xosfa = ts.sat(mode_lat=\"value\", value_lat=75, mode_lon=\"value\", value_lon = 318)\n",
    "t_xosfa_sat = np.linspace(0, ts.end_year-ts.start_year, len(ngrip_xosfa.t)) - 21000"
   ]
  },
  {
   "cell_type": "code",
   "execution_count": 3,
   "metadata": {},
   "outputs": [
    {
     "data": {
      "text/plain": [
       "array([-21000.        , -20999.91668765, -20999.83337529, ...,\n",
       "       -17360.16662471, -17360.08331235, -17360.        ])"
      ]
     },
     "execution_count": 3,
     "metadata": {},
     "output_type": "execute_result"
    }
   ],
   "source": [
    "t_xosfa_sat"
   ]
  },
  {
   "cell_type": "code",
   "execution_count": 7,
   "metadata": {},
   "outputs": [
    {
     "data": {
      "text/plain": [
       "array([2552.        , 2552.08331235, 2552.16662471, ..., 6191.83337529,\n",
       "       6191.91668765, 6192.        ])"
      ]
     },
     "execution_count": 7,
     "metadata": {},
     "output_type": "execute_result"
    }
   ],
   "source": [
    "ts.processed_time()"
   ]
  },
  {
   "cell_type": "code",
   "execution_count": null,
   "metadata": {},
   "outputs": [],
   "source": []
  }
 ],
 "metadata": {
  "kernelspec": {
   "display_name": "Python 3",
   "language": "python",
   "name": "python3"
  },
  "language_info": {
   "codemirror_mode": {
    "name": "ipython",
    "version": 3
   },
   "file_extension": ".py",
   "mimetype": "text/x-python",
   "name": "python",
   "nbconvert_exporter": "python",
   "pygments_lexer": "ipython3",
   "version": "3.7.6"
  }
 },
 "nbformat": 4,
 "nbformat_minor": 2
}
