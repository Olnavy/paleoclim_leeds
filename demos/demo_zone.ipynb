{
 "cells": [
  {
   "cell_type": "code",
   "execution_count": 1,
   "metadata": {},
   "outputs": [],
   "source": [
    "import numpy as np\n",
    "import xarray as xr\n",
    "import matplotlib.pyplot as plt\n",
    "import matplotlib.gridspec as gridspec\n",
    "import SCM6\n",
    "import paleoclim_leeds.hadcm3_processing as hcm3\n",
    "import paleoclim_leeds.zones as zones\n",
    "import cartopy.feature\n",
    "import cartopy.crs as ccrs"
   ]
  },
  {
   "cell_type": "code",
   "execution_count": null,
   "metadata": {},
   "outputs": [],
   "source": []
  },
  {
   "cell_type": "code",
   "execution_count": 2,
   "metadata": {},
   "outputs": [
    {
     "name": "stdout",
     "output_type": "stream",
     "text": [
      "__ Importing <class 'paleoclim_leeds.hadcm3_processing.OCNYDS'>\n",
      "____ Paths generated for xosfb between years 3000 and 3010.\n",
      "____ Import succeeded.\n",
      "____ Coordinates imported in the HadCM3DS dataset.\n",
      "__ Importing temperature.\n",
      "<xarray.Dataset>\n",
      "Dimensions:             (depth: 19, depth_1: 20, latitude: 144, latitude_1: 143, longitude: 288, longitude_1: 288, t: 1, unspecified: 1)\n",
      "Coordinates:\n",
      "  * longitude           (longitude) float32 0.0 1.25 2.5 ... 356.25 357.5 358.75\n",
      "  * latitude            (latitude) float32 -89.375 -88.125 ... 88.125 89.375\n",
      "  * depth               (depth) float32 10.0 20.0 30.0 ... 3654.3 4269.5 4884.8\n",
      "  * t                   (t) object 3000-06-01 00:00:00\n",
      "  * unspecified         (unspecified) float32 -1.0\n",
      "  * depth_1             (depth_1) float32 5.0 15.0 25.0 ... 4577.15 5192.45\n",
      "  * longitude_1         (longitude_1) float32 0.625 1.875 ... 358.125 359.375\n",
      "  * latitude_1          (latitude_1) float32 -88.75 -87.5 -86.25 ... 87.5 88.75\n",
      "Data variables:\n",
      "    W_ym_dpth           (t, depth, latitude, longitude) float32 ...\n",
      "    srfSalFlux_ym_uo    (t, unspecified, latitude, longitude) float32 ...\n",
      "    insitu_T_ym_dpth    (t, depth_1, latitude, longitude) float32 ...\n",
      "    ucurrTot_ym_dpth    (t, depth_1, latitude_1, longitude_1) float32 ...\n",
      "    vcurrTot_ym_dpth    (t, depth_1, latitude_1, longitude_1) float32 ...\n",
      "    srfSalFlux_ym_uo_1  (t, unspecified, latitude, longitude) float32 ...\n",
      "    temp_ym_dpth        (t, depth_1, latitude, longitude) float32 ...\n",
      "    salinity_ym_dpth    (t, depth_1, latitude, longitude) float32 ...\n",
      "    otracer14_ym_dpth   (t, depth_1, latitude, longitude) float32 ...\n",
      "    streamFn_ym_uo      (t, unspecified, latitude, longitude) float32 ...\n",
      "    mixLyrDpth_ym_uo    (t, unspecified, latitude, longitude) float32 ...\n",
      "    iceconc_ym_uo       (t, unspecified, latitude, longitude) float32 ...\n",
      "    icedepth_ym_uo      (t, unspecified, latitude, longitude) float32 ...\n",
      "    PLE_ym_uo           (t, unspecified, latitude, longitude) float32 ...\n",
      "    outflow_ym_uo       (t, unspecified, latitude, longitude) float32 ...\n",
      "    anomSaltFlux_ym_uo  (t, unspecified, latitude, longitude) float32 ...\n",
      "Attributes:\n",
      "    history:  Sat Feb 29 09:55:20 GMT 2020 - XCONV V1.91 Development\n",
      "____ Data imported in the GeoDataArray instance.\n",
      "____ Coordinate imported in the GeoDataArray instance.\n",
      "____ New longitude value : 350.0\n"
     ]
    },
    {
     "name": "stderr",
     "output_type": "stream",
     "text": [
      "/nfs/see-fs-01_users/eeymr/.conda/envs/eeymr/lib/python3.7/site-packages/xarray/core/nanops.py:142: RuntimeWarning: Mean of empty slice\n",
      "  return np.nanmean(a, axis=axis, dtype=dtype)\n"
     ]
    },
    {
     "data": {
      "text/plain": [
       "lon: [349.375; 1]; lon_p: [349.375; 1]\n",
       "lonb: [349.375; 1]; lonb_p: [349.375; 1]\n",
       "lons: None; lons_p: None\n",
       "lat: [-89.375; -88.125; ...; 88.125; 89.375; 144]; lat_p: [-89.375; -88.125; ...; 89.375; 90.625; 145]\n",
       "latb: [-88.75; -87.5; ...; 87.5; 88.75; 143]; latb_p: [-90.0; -88.75; ...; 88.75; 90.0; 145]\n",
       "lats: [1.25; 1.25; ...; 1.25; 1.25; 142]; lats_p: [1.25; 1.25; ...; 1.25; 1.25; 144]\n",
       "z: [-4884.7998046875; -4269.5; ...; -20.0; -10.0; 19]; z_p: [-4884.7998046875; -4269.5; ...; -20.0; -10.0; 19]\n",
       "zb: [-5192.4501953125; -4577.14990234375; ...; -15.0; -5.0; 20]; zb_p: [-5192.4501953125; -4577.14990234375; ...; -15.0; -5.0; 20]\n",
       "zs: [-615.30029296875; -615.2999267578125; ...; -10.0; -10.0; 19]; zs_p: [-615.30029296875; -615.2999267578125; ...; -10.0; -10.0; 19]\n",
       "t: [3000-06-01 00:00:00; 3001-06-01 00:00:00; ...; 3009-06-01 00:00:00; 3010-06-01 00:00:00; 11]\n",
       "DATA: <xarray.DataArray 'temp_ym_dpth' (zb: 20, latitude: 144)>\n",
       "array([[        nan,         nan,         nan, ...,         nan,\n",
       "                nan,         nan],\n",
       "       [        nan,         nan,         nan, ...,         nan,\n",
       "                nan,         nan],\n",
       "       [        nan,         nan,         nan, ...,  0.12989415,\n",
       "         0.12890205,         nan],\n",
       "       ...,\n",
       "       [        nan,         nan,         nan, ..., -1.6943208 ,\n",
       "        -1.6483775 ,         nan],\n",
       "       [        nan,         nan,         nan, ..., -1.7149215 ,\n",
       "        -1.6716281 ,         nan],\n",
       "       [        nan,         nan,         nan, ..., -1.7152978 ,\n",
       "        -1.6721282 ,         nan]], dtype=float32)\n",
       "Coordinates:\n",
       "  * zb         (zb) float32 -5192.45 -4577.15 -3961.9 ... -25.0 -15.0 -5.0\n",
       "  * latitude   (latitude) float32 -89.375 -88.125 -86.875 ... 88.125 89.375\n",
       "    longitude  float32 350.0"
      ]
     },
     "execution_count": 2,
     "metadata": {},
     "output_type": "execute_result"
    }
   ],
   "source": [
    "temperature = hcm3.OCNYDS('xosfb', 3000, 3010).temperature(mode_t='mean', mode_lon='value', value_lon=350)\n",
    "temperature"
   ]
  },
  {
   "cell_type": "code",
   "execution_count": 3,
   "metadata": {},
   "outputs": [
    {
     "data": {
      "text/plain": [
       "array([[        nan,         nan,         nan, ...,         nan,\n",
       "                nan,         nan],\n",
       "       [        nan,         nan,         nan, ...,         nan,\n",
       "                nan,         nan],\n",
       "       [        nan,         nan,         nan, ...,  0.12890205,\n",
       "         0.12890205,  0.12890205],\n",
       "       ...,\n",
       "       [        nan,         nan,         nan, ..., -1.6483775 ,\n",
       "        -1.6483775 , -1.6483775 ],\n",
       "       [        nan,         nan,         nan, ..., -1.6716281 ,\n",
       "        -1.6716281 , -1.6716281 ],\n",
       "       [        nan,         nan,         nan, ..., -1.6721282 ,\n",
       "        -1.6721282 , -1.6721282 ]], dtype=float32)"
      ]
     },
     "execution_count": 3,
     "metadata": {},
     "output_type": "execute_result"
    }
   ],
   "source": [
    "temperature.values()"
   ]
  },
  {
   "cell_type": "code",
   "execution_count": 4,
   "metadata": {},
   "outputs": [
    {
     "data": {
      "text/plain": [
       "<matplotlib.contour.QuadContourSet at 0x2b3046d7ae10>"
      ]
     },
     "execution_count": 4,
     "metadata": {},
     "output_type": "execute_result"
    },
    {
     "data": {
      "image/png": "[encoded data removed]",
      "text/plain": [
       "<Figure size 432x288 with 1 Axes>"
      ]
     },
     "metadata": {
      "needs_background": "light"
     },
     "output_type": "display_data"
    }
   ],
   "source": [
    "plt.contourf(temperature.values(processing=True))"
   ]
  },
  {
   "cell_type": "code",
   "execution_count": 5,
   "metadata": {},
   "outputs": [
    {
     "data": {
      "text/plain": [
       "array([-5.19245e+03, -4.57715e+03, -3.96190e+03, -3.34665e+03,\n",
       "       -2.73140e+03, -2.11615e+03, -1.50085e+03, -9.95550e+02,\n",
       "       -6.66300e+02, -4.47050e+02, -3.01000e+02, -2.03700e+02,\n",
       "       -1.38900e+02, -9.57500e+01, -6.70000e+01, -4.78500e+01,\n",
       "       -3.51000e+01, -2.50000e+01, -1.50000e+01, -5.00000e+00],\n",
       "      dtype=float32)"
      ]
     },
     "execution_count": 5,
     "metadata": {},
     "output_type": "execute_result"
    }
   ],
   "source": [
    "temperature.zb"
   ]
  },
  {
   "cell_type": "code",
   "execution_count": null,
   "metadata": {},
   "outputs": [],
   "source": []
  },
  {
   "cell_type": "code",
   "execution_count": null,
   "metadata": {},
   "outputs": [],
   "source": []
  },
  {
   "cell_type": "markdown",
   "metadata": {},
   "source": [
    "### ATMSURFDS"
   ]
  },
  {
   "cell_type": "code",
   "execution_count": 2,
   "metadata": {},
   "outputs": [],
   "source": [
    "zone_na = zones.Box(lon_min=310, lon_max=340, lat_min=50, lat_max=70)\n",
    "zone_n = zones.Box(lon_min=310, lat_min=50)"
   ]
  },
  {
   "cell_type": "code",
   "execution_count": 3,
   "metadata": {},
   "outputs": [
    {
     "name": "stdout",
     "output_type": "stream",
     "text": [
      "__ Importing <class 'paleoclim_leeds.hadcm3_processing.ATMSURFMDS'>\n",
      "____ Paths generated for xosfb between years 3000 and 3010.\n",
      "____ Import succeeded.\n",
      "____ Coordinates imported in the HadCM3DS dataset.\n",
      "__ Importing SAT.\n",
      "____ Data imported in the GeoDataArray instance.\n",
      "____ Coordinate imported in the GeoDataArray instance.\n",
      "____ Data compacted to the zone.\n"
     ]
    },
    {
     "data": {
      "text/plain": [
       "lon: [311.25; 315.0; ...; 333.75; 337.5; 8]; lon_p: [311.25; 315.0; ...; 333.75; 337.5; 8]\n",
       "lonb: [313.125; 316.875; ...; 335.625; 339.375; 8]; lonb_p: [313.125; 316.875; ...; 335.625; 339.375; 8]\n",
       "lons: [3.75; 3.75; ...; 3.75; 3.75; 12]; lons_p: [3.75; 3.75; ...; 3.75; 3.75; 12]\n",
       "lat: [50.0; 52.5; ...; 67.5; 70.0; 9]; lat_p: [50.0; 52.5; ...; 67.5; 70.0; 9]\n",
       "latb: [51.25; 53.75; ...; 66.25; 68.75; 8]; latb_p: [48.75; 51.25; ...; 63.75; 66.25; 8]\n",
       "lats: [2.5; 2.5; ...; 2.5; 2.5; 15]; lats_p: [2.5; 2.5; ...; 2.5; 2.5; 15]\n",
       "z: None; z_p: None\n",
       "zb: None; zb_p: None\n",
       "zs: None; zs_p: None\n",
       "t: [3000-01-01 00:00:00; 3000-02-01 00:00:00; ...; 3010-11-01 00:00:00; 3010-12-01 00:00:00; 132]\n",
       "DATA: <xarray.DataArray 'temp_mm_srf' (latitude: 9, longitude: 8)>\n",
       "array([[249.81143, 252.88933, 255.80878, 257.9481 , 260.06473, 262.3618 ,\n",
       "        264.32178, 266.31885],\n",
       "       [247.96062, 251.20653, 254.10825, 256.34357, 258.5687 , 260.8615 ,\n",
       "        262.7806 , 265.0222 ],\n",
       "       [247.62212, 250.80063, 253.02885, 255.24878, 257.74707, 260.0297 ,\n",
       "        261.8769 , 264.1197 ],\n",
       "       [249.83034, 251.60367, 252.19084, 254.80777, 257.8349 , 259.74588,\n",
       "        261.47305, 263.38507],\n",
       "       [253.33635, 243.20682, 251.32872, 254.30939, 258.00464, 259.87817,\n",
       "        261.4099 , 262.4653 ],\n",
       "       [232.84914, 234.11272, 242.04504, 251.63795, 254.9512 , 256.38345,\n",
       "        255.198  , 254.59608],\n",
       "       [230.07042, 231.79214, 236.73572, 248.76562, 249.55347, 249.53714,\n",
       "        249.81268, 252.5511 ],\n",
       "       [229.0997 , 226.22285, 226.9183 , 234.20847, 234.63782, 245.69652,\n",
       "        243.65501, 242.67462],\n",
       "       [227.74734, 227.8211 , 222.68504, 224.61577, 229.10095, 230.26816,\n",
       "        233.83887, 234.83446]], dtype=float32)\n",
       "Coordinates:\n",
       "  * latitude   (latitude) float32 50.0 52.5 55.0 57.5 60.0 62.5 65.0 67.5 70.0\n",
       "  * longitude  (longitude) float32 311.25 315.0 318.75 ... 330.0 333.75 337.5"
      ]
     },
     "execution_count": 3,
     "metadata": {},
     "output_type": "execute_result"
    }
   ],
   "source": [
    "sat = hcm3.ATMSURFMDS('xosfb', 3000, 3010).sat(mode_t='mean', zone=zone_na)\n",
    "sat"
   ]
  },
  {
   "cell_type": "code",
   "execution_count": 4,
   "metadata": {
    "scrolled": false
   },
   "outputs": [
    {
     "name": "stdout",
     "output_type": "stream",
     "text": [
      "__ Importing <class 'paleoclim_leeds.hadcm3_processing.ATMSURFMDS'>\n",
      "____ Paths generated for xosfb between years 3000 and 3010.\n",
      "____ Import succeeded.\n",
      "____ Coordinates imported in the HadCM3DS dataset.\n",
      "__ Importing SAT.\n",
      "____ Data imported in the GeoDataArray instance.\n",
      "____ Coordinate imported in the GeoDataArray instance.\n",
      "____ Data compacted to the zone.\n"
     ]
    },
    {
     "data": {
      "text/plain": [
       "lon: [311.25; 315.0; ...; 352.5; 356.25; 13]; lon_p: [311.25; 315.0; ...; 352.5; 356.25; 13]\n",
       "lonb: [313.125; 316.875; ...; 354.375; 358.125; 13]; lonb_p: [313.125; 316.875; ...; 354.375; 358.125; 13]\n",
       "lons: [3.75; 3.75; ...; 3.75; 3.75; 95]; lons_p: [3.75; 3.75; ...; 3.75; 3.75; 96]\n",
       "lat: [50.0; 52.5; ...; 87.5; 90.0; 17]; lat_p: [50.0; 52.5; ...; 87.5; 90.0; 17]\n",
       "latb: [51.25; 53.75; ...; 86.25; 88.75; 16]; latb_p: [48.75; 51.25; ...; 83.75; 86.25; 16]\n",
       "lats: [2.5; 2.5; ...; 2.5; 2.5; 71]; lats_p: [1.25; 2.5; ...; 2.5; 2.5; 73]\n",
       "z: None; z_p: None\n",
       "zb: None; zb_p: None\n",
       "zs: None; zs_p: None\n",
       "t: [3000-01-01 00:00:00; 3000-02-01 00:00:00; ...; 3010-11-01 00:00:00; 3010-12-01 00:00:00; 132]\n",
       "DATA: <xarray.DataArray 'temp_mm_srf' (latitude: 17, longitude: 13)>\n",
       "array([[249.81143, 252.88933, 255.80878, 257.9481 , 260.06473, 262.3618 ,\n",
       "        264.32178, 266.31885, 268.70447, 271.42053, 271.5078 , 271.03333,\n",
       "        268.3082 ],\n",
       "       [247.96062, 251.20653, 254.10825, 256.34357, 258.5687 , 260.8615 ,\n",
       "        262.7806 , 265.0222 , 267.47626, 269.83826, 269.91693, 264.4391 ,\n",
       "        267.28195],\n",
       "       [247.62212, 250.80063, 253.02885, 255.24878, 257.74707, 260.0297 ,\n",
       "        261.8769 , 264.1197 , 266.52646, 268.39368, 268.91806, 255.57857,\n",
       "        254.33525],\n",
       "       [249.83034, 251.60367, 252.19084, 254.80777, 257.8349 , 259.74588,\n",
       "        261.47305, 263.38507, 265.37997, 267.0686 , 267.07883, 253.91927,\n",
       "        253.98021],\n",
       "       [253.33635, 243.20682, 251.32872, 254.30939, 258.00464, 259.87817,\n",
       "        261.4099 , 262.4653 , 262.54025, 262.4657 , 261.12173, 260.9839 ,\n",
       "        256.86734],\n",
       "       [232.84914, 234.11272, 242.04504, 251.63795, 254.9512 , 256.38345,\n",
       "        255.198  , 254.59608, 252.74165, 252.67892, 251.78447, 252.79578,\n",
       "        252.43439],\n",
       "       [230.07042, 231.79214, 236.73572, 248.76562, 249.55347, 249.53714,\n",
       "        249.81268, 252.5511 , 240.18535, 242.01848, 245.92114, 246.90349,\n",
       "        247.73685],\n",
       "       [229.0997 , 226.22285, 226.9183 , 234.20847, 234.63782, 245.69652,\n",
       "        243.65501, 242.67462, 241.05145, 242.54106, 243.88744, 244.30205,\n",
       "        244.72789],\n",
       "       [227.74734, 227.8211 , 222.68504, 224.61577, 229.10095, 230.26816,\n",
       "        233.83887, 234.83446, 240.08472, 240.43881, 240.73708, 241.36005,\n",
       "        241.9852 ],\n",
       "       [228.2671 , 224.09077, 219.7206 , 219.73119, 224.34291, 230.39175,\n",
       "        228.87363, 232.52003, 238.78285, 238.06511, 238.0043 , 238.70992,\n",
       "        239.60083],\n",
       "       [224.04669, 221.21991, 219.78796, 220.92769, 224.81676, 228.47168,\n",
       "        228.94135, 233.36716, 231.85417, 235.65154, 235.98492, 236.51537,\n",
       "        237.2522 ],\n",
       "       [221.95978, 221.05244, 221.36258, 222.37715, 224.41362, 227.09819,\n",
       "        224.81526, 224.52583, 229.84068, 235.1335 , 234.7551 , 228.06937,\n",
       "        235.50784],\n",
       "       [225.08168, 224.16515, 222.44356, 221.6086 , 221.33482, 220.83534,\n",
       "        225.6281 , 221.44693, 228.34738, 235.13994, 234.43387, 233.09608,\n",
       "        234.1552 ],\n",
       "       [230.05206, 225.0055 , 223.06438, 225.77399, 225.64197, 223.52711,\n",
       "        224.423  , 225.6808 , 224.85815, 233.26468, 232.98203, 232.19162,\n",
       "        232.22615],\n",
       "       [231.01117, 231.1893 , 231.85187, 232.50374, 232.87408, 232.47769,\n",
       "        231.71683, 231.21812, 231.96254, 233.37675, 232.75354, 232.06343,\n",
       "        231.90309],\n",
       "       [231.14467, 230.92465, 231.11948, 231.45361, 231.62106, 231.51646,\n",
       "        231.31439, 231.32837, 231.70445, 231.90375, 231.67819, 231.53328,\n",
       "        231.61607],\n",
       "       [231.94348, 231.94348, 231.94348, 231.94348, 231.94348, 231.94348,\n",
       "        231.94348, 231.94348, 231.94348, 231.94348, 231.94348, 231.94348,\n",
       "        231.94348]], dtype=float32)\n",
       "Coordinates:\n",
       "  * latitude   (latitude) float32 50.0 52.5 55.0 57.5 ... 82.5 85.0 87.5 90.0\n",
       "  * longitude  (longitude) float32 311.25 315.0 318.75 ... 348.75 352.5 356.25"
      ]
     },
     "execution_count": 4,
     "metadata": {},
     "output_type": "execute_result"
    }
   ],
   "source": [
    "sat = hcm3.ATMSURFMDS('xosfb', 3000, 3010).sat(mode_t='mean', zone=zone_n)\n",
    "sat"
   ]
  },
  {
   "cell_type": "code",
   "execution_count": 8,
   "metadata": {},
   "outputs": [
    {
     "data": {
      "image/png": "[encoded data removed]",
      "text/plain": [
       "<Figure size 400x400 with 1 Axes>"
      ]
     },
     "metadata": {
      "needs_background": "light"
     },
     "output_type": "display_data"
    }
   ],
   "source": [
    "projection = ccrs.PlateCarree()\n",
    "\n",
    "figMap = plt.figure(figsize=(2,2), dpi = 200)\n",
    "axMap = figMap.add_subplot(1, 1, 1, projection=projection)\n",
    "\n",
    "cm = axMap.contourf(sat.lon_p, sat.lat_p, sat.values(), transform=ccrs.PlateCarree(), cmap=\"RdYlBu_r\")\n",
    "axMap.coastlines()\n",
    "axMap.set_extent([300, 350, 40, 90])"
   ]
  },
  {
   "cell_type": "markdown",
   "metadata": {},
   "source": [
    "### ATMUPDS"
   ]
  },
  {
   "cell_type": "code",
   "execution_count": 12,
   "metadata": {},
   "outputs": [],
   "source": [
    "zone_na = zones.Box(lon_min=310, lon_max=340, lat_min=50, lat_max=70, z_min=30, z_max=100)\n",
    "zone_n = zones.Box(lon_min=310, lat_min=50, z_min=30)"
   ]
  },
  {
   "cell_type": "code",
   "execution_count": 13,
   "metadata": {},
   "outputs": [
    {
     "name": "stdout",
     "output_type": "stream",
     "text": [
      "__ Importing <class 'paleoclim_leeds.hadcm3_processing.ATMUPMDS'>\n",
      "____ Paths generated for xosfb between years 3000 and 3010.\n",
      "____ Import succeeded.\n",
      "____ Coordinates imported in the HadCM3DS dataset.\n",
      "__ Importing atmosphere temperaure.\n",
      "____ Data imported in the GeoDataArray instance.\n",
      "____ Coordinate imported in the GeoDataArray instance.\n",
      "____ Data compacted to the zone.\n"
     ]
    },
    {
     "data": {
      "text/plain": [
       "lon: [313.125; 316.875; ...; 335.625; 339.375; 8]; lon_p: [313.125; 316.875; ...; 335.625; 339.375; 8]\n",
       "lonb: [311.25; 315.0; ...; 333.75; 337.5; 8]; lonb_p: [311.25; 315.0; ...; 333.75; 337.5; 8]\n",
       "lons: [3.75; 3.75; ...; 3.75; 3.75; 12]; lons_p: [3.75; 3.75; ...; 3.75; 3.75; 12]\n",
       "lat: [51.25; 53.75; ...; 66.25; 68.75; 8]; lat_p: [48.75; 51.25; ...; 63.75; 66.25; 8]\n",
       "latb: [50.0; 52.5; ...; 67.5; 70.0; 9]; latb_p: [50.0; 52.5; ...; 67.5; 70.0; 9]\n",
       "lats: [2.5; 2.5; ...; 2.5; 2.5; 16]; lats_p: [2.5; 2.5; ...; 2.5; 2.5; 16]\n",
       "z: [30.0; 50.0; ...; 70.0; 100.0; 4]; z_p: [30.0; 50.0; ...; 70.0; 100.0; 4]\n",
       "zb: [40.0; 55.0; ...; 55.0; 75.0; 3]; zb_p: [40.0; 55.0; ...; 55.0; 75.0; 3]\n",
       "zs: [15.0; 20.0; ...; 75.0; 75.0; 14]; zs_p: [15.0; 20.0; ...; 75.0; 75.0; 14]\n",
       "t: [3000-01-01 00:00:00; 3000-02-01 00:00:00; ...; 3010-11-01 00:00:00; 3010-12-01 00:00:00; 132]\n",
       "DATA: <xarray.DataArray 'temp_mm_p' (z: 4, latitudeb: 9, longitudeb: 8)>\n",
       "array([[[223.67276, 223.71492, 223.60875, 223.55933, 223.51736,\n",
       "         223.39072, 223.32526, 223.2125 ],\n",
       "        [223.83383, 223.89784, 223.8024 , 223.72525, 223.72356,\n",
       "         223.58598, 223.51788, 223.4431 ],\n",
       "        [223.91815, 223.97166, 223.91148, 223.85448, 223.8261 ,\n",
       "         223.73419, 223.66125, 223.56874],\n",
       "        [223.90129, 224.01678, 223.90932, 223.88016, 223.83946,\n",
       "         223.76865, 223.69597, 223.59082],\n",
       "        [223.78816, 223.91931, 223.75429, 223.84413, 223.79709,\n",
       "         223.67961, 223.64484, 223.56348],\n",
       "        [223.51247, 223.62325, 223.5734 , 223.73805, 223.6453 ,\n",
       "         223.49155, 223.52895, 223.45537],\n",
       "        [223.21596, 223.27449, 223.35   , 223.36769, 223.39914,\n",
       "         223.35535, 223.34592, 223.1777 ],\n",
       "        [222.82477, 222.73619, 222.89478, 222.97612, 223.02756,\n",
       "         222.91966, 223.07143, 222.99352],\n",
       "        [222.43289, 222.424  , 222.52232, 222.4835 , 222.48488,\n",
       "         222.53725, 222.7849 , 222.58354]],\n",
       "\n",
       "       [[219.86934, 219.89609, 219.81349, 219.74718, 219.78499,\n",
       "         219.69183, 219.6765 , 219.70456],\n",
       "        [220.41519, 220.48807, 220.44492, 220.34323, 220.3971 ,\n",
       "         220.30557, 220.2577 , 220.2931 ],\n",
       "        [220.82184, 220.89674, 220.85107, 220.79207, 220.81693,\n",
       "         220.7517 , 220.70937, 220.7117 ],\n",
       "        [221.01929, 221.16037, 221.0582 , 221.05547, 221.06273,\n",
       "         221.01273, 220.98784, 220.96019],\n",
       "        [221.07196, 221.14035, 221.0347 , 221.14581, 221.15778,\n",
       "         221.05476, 221.09424, 221.09132],\n",
       "        [220.74728, 220.92111, 220.91608, 221.08861, 221.103  ,\n",
       "         220.96523, 221.0522 , 221.05777],\n",
       "        [220.52313, 220.61105, 220.64346, 220.86508, 220.88672,\n",
       "         220.83418, 220.91798, 220.85661],\n",
       "        [220.26149, 220.13928, 220.30435, 220.45496, 220.46347,\n",
       "         220.5178 , 220.68575, 220.67378],\n",
       "        [220.04161, 219.93022, 220.01834, 220.0227 , 220.03685,\n",
       "         220.10382, 220.34668, 220.40387]],\n",
       "\n",
       "       [[218.08777, 218.02045, 217.93831, 217.82239, 217.8603 ,\n",
       "         217.82404, 217.82639, 217.92354],\n",
       "        [218.87231, 218.84067, 218.79723, 218.68086, 218.7148 ,\n",
       "         218.67859, 218.65228, 218.71812],\n",
       "        [219.38681, 219.41466, 219.36601, 219.30438, 219.32945,\n",
       "         219.2876 , 219.26343, 219.30287],\n",
       "        [219.63997, 219.77197, 219.67284, 219.67175, 219.6898 ,\n",
       "         219.65271, 219.64476, 219.65123],\n",
       "        [219.76155, 219.70872, 219.73364, 219.79192, 219.83327,\n",
       "         219.74818, 219.80594, 219.83633],\n",
       "        [219.21931, 219.54007, 219.65208, 219.70724, 219.8022 ,\n",
       "         219.6908 , 219.76527, 219.81393],\n",
       "        [219.08777, 219.24626, 219.1676 , 219.6103 , 219.57545,\n",
       "         219.50656, 219.62875, 219.66074],\n",
       "        [218.9018 , 218.79839, 218.90779, 219.07336, 219.00562,\n",
       "         219.33173, 219.3931 , 219.39781],\n",
       "        [218.79227, 218.5812 , 218.6306 , 218.68819, 218.74036,\n",
       "         218.77815, 218.86234, 219.35782]],\n",
       "\n",
       "       [[216.763  , 216.54988, 216.46274, 216.276  , 216.28218,\n",
       "         216.32481, 216.33621, 216.48921],\n",
       "        [217.77623, 217.57503, 217.51353, 217.38579, 217.36615,\n",
       "         217.4015 , 217.40329, 217.47409],\n",
       "        [218.33463, 218.28113, 218.22433, 218.16167, 218.16742,\n",
       "         218.15414, 218.14755, 218.21037],\n",
       "        [218.59138, 218.70006, 218.60571, 218.59975, 218.61818,\n",
       "         218.59529, 218.59668, 218.62782],\n",
       "        [218.75812, 218.5985 , 218.74991, 218.714  , 218.7815 ,\n",
       "         218.7226 , 218.78094, 218.83377],\n",
       "        [218.08589, 218.58873, 218.70935, 218.55904, 218.74698,\n",
       "         218.67513, 218.7086 , 218.79547],\n",
       "        [218.06194, 218.35847, 218.03792, 218.60869, 218.48622,\n",
       "         218.39627, 218.54501, 218.68877],\n",
       "        [217.94748, 217.94417, 217.97643, 218.09058, 217.8661 ,\n",
       "         218.40456, 218.28326, 218.2883 ],\n",
       "        [217.94482, 217.67163, 217.70435, 217.84892, 217.94312,\n",
       "         217.87968, 217.67433, 218.57767]]], dtype=float32)\n",
       "Coordinates:\n",
       "  * z           (z) float32 30.0 50.0 70.0 100.0\n",
       "  * latitudeb   (latitudeb) float32 50.0 52.5 55.0 57.5 60.0 62.5 65.0 67.5 70.0\n",
       "  * longitudeb  (longitudeb) float32 311.25 315.0 318.75 ... 330.0 333.75 337.5"
      ]
     },
     "execution_count": 13,
     "metadata": {},
     "output_type": "execute_result"
    }
   ],
   "source": [
    "temperature = hcm3.ATMUPMDS('xosfb', 3000, 3010).temperature(mode_t='mean', zone=zone_na)\n",
    "temperature"
   ]
  },
  {
   "cell_type": "code",
   "execution_count": 14,
   "metadata": {
    "scrolled": false
   },
   "outputs": [
    {
     "name": "stdout",
     "output_type": "stream",
     "text": [
      "__ Importing <class 'paleoclim_leeds.hadcm3_processing.ATMUPMDS'>\n",
      "____ Paths generated for xosfb between years 3000 and 3010.\n",
      "____ Import succeeded.\n",
      "____ Coordinates imported in the HadCM3DS dataset.\n",
      "__ Importing atmosphere temperaure.\n",
      "____ Data imported in the GeoDataArray instance.\n",
      "____ Coordinate imported in the GeoDataArray instance.\n",
      "____ Data compacted to the zone.\n"
     ]
    },
    {
     "data": {
      "text/plain": [
       "lon: [313.125; 316.875; ...; 354.375; 358.125; 13]; lon_p: [313.125; 316.875; ...; 354.375; 358.125; 13]\n",
       "lonb: [311.25; 315.0; ...; 352.5; 356.25; 13]; lonb_p: [311.25; 315.0; ...; 352.5; 356.25; 13]\n",
       "lons: [3.75; 3.75; ...; 3.75; 3.75; 95]; lons_p: [3.75; 3.75; ...; 3.75; 3.75; 96]\n",
       "lat: [51.25; 53.75; ...; 86.25; 88.75; 16]; lat_p: [48.75; 51.25; ...; 83.75; 86.25; 16]\n",
       "latb: [50.0; 52.5; ...; 87.5; 90.0; 17]; latb_p: [50.0; 52.5; ...; 87.5; 90.0; 17]\n",
       "lats: [2.5; 2.5; ...; 2.5; 2.5; 72]; lats_p: [2.5; 2.5; ...; 2.5; 2.5; 72]\n",
       "z: [30.0; 50.0; ...; 925.0; 1000.0; 15]; z_p: [30.0; 50.0; ...; 925.0; 1000.0; 15]\n",
       "zb: [40.0; 55.0; ...; 962.5; 1037.5; 15]; zb_p: [40.0; 55.0; ...; 962.5; 1037.5; 15]\n",
       "zs: [10.0; 5.0; ...; 75.0; 75.0; 17]; zs_p: [10.0; 5.0; ...; 75.0; 75.0; 17]\n",
       "t: [3000-01-01 00:00:00; 3000-02-01 00:00:00; ...; 3010-11-01 00:00:00; 3010-12-01 00:00:00; 132]\n",
       "DATA: <xarray.DataArray 'temp_mm_p' (z: 15, latitudeb: 17, longitudeb: 13)>\n",
       "array([[[223.67276, 223.71492, 223.60875, ..., 222.82646, 222.65193,\n",
       "         222.5373 ],\n",
       "        [223.83383, 223.89784, 223.8024 , ..., 223.03876, 222.80103,\n",
       "         222.733  ],\n",
       "        [223.91815, 223.97166, 223.91148, ..., 223.13779, 222.90326,\n",
       "         222.85391],\n",
       "        ...,\n",
       "        [220.93079, 220.97949, 220.98222, ..., 221.0598 , 221.1149 ,\n",
       "         221.07639],\n",
       "        [220.95204, 220.92609, 220.86597, ..., 220.9403 , 220.92683,\n",
       "         220.85347],\n",
       "        [220.64938, 220.64938, 220.64938, ..., 220.64938, 220.64938,\n",
       "         220.64938]],\n",
       "\n",
       "       [[219.86934, 219.89609, 219.81349, ..., 219.59813, 219.43797,\n",
       "         219.36812],\n",
       "        [220.41519, 220.48807, 220.44492, ..., 220.15295, 219.94635,\n",
       "         219.88542],\n",
       "        [220.82184, 220.89674, 220.85107, ..., 220.53531, 220.2917 ,\n",
       "         220.24416],\n",
       "        ...,\n",
       "        [219.21916, 219.34084, 219.40364, ..., 219.34042, 219.45567,\n",
       "         219.48428],\n",
       "        [219.30952, 219.32156, 219.28833, ..., 219.3066 , 219.3301 ,\n",
       "         219.29085],\n",
       "        [219.12968, 219.12968, 219.12968, ..., 219.12968, 219.12968,\n",
       "         219.12968]],\n",
       "\n",
       "       [[218.08777, 218.02045, 217.93831, ..., 217.98618, 217.86142,\n",
       "         217.80557],\n",
       "        [218.87231, 218.84067, 218.79723, ..., 218.69868, 218.54704,\n",
       "         218.44019],\n",
       "        [219.38681, 219.41466, 219.36601, ..., 219.23457, 218.98314,\n",
       "         218.89285],\n",
       "        ...,\n",
       "        [218.3758 , 218.5519 , 218.66177, ..., 218.48303, 218.6192 ,\n",
       "         218.67917],\n",
       "        [218.5053 , 218.53935, 218.52336, ..., 218.52165, 218.5658 ,\n",
       "         218.54478],\n",
       "        [218.40169, 218.40169, 218.40169, ..., 218.40169, 218.40169,\n",
       "         218.40169]],\n",
       "\n",
       "       ...,\n",
       "\n",
       "       [[253.12686, 254.29276, 256.35693, ..., 262.96997, 263.6855 ,\n",
       "         264.31525],\n",
       "        [250.39973, 251.77507, 253.66876, ..., 261.34363, 262.24664,\n",
       "         261.19037],\n",
       "        [248.91835, 250.35138, 251.70618, ..., 260.18646, 259.64462,\n",
       "         259.70908],\n",
       "        ...,\n",
       "        [241.6402 , 240.4395 , 240.68324, ..., 241.64064, 241.53426,\n",
       "         241.57858],\n",
       "        [242.00076, 241.67738, 241.93448, ..., 242.13672, 242.1886 ,\n",
       "         242.25702],\n",
       "        [242.64584, 242.64584, 242.64584, ..., 242.64584, 242.64584,\n",
       "         242.64584]],\n",
       "\n",
       "       [[252.35814, 254.10931, 256.41895, ..., 265.49338, 266.07864,\n",
       "         266.75217],\n",
       "        [250.21384, 252.01534, 254.03513, ..., 263.96658, 264.25415,\n",
       "         264.81802],\n",
       "        [249.4781 , 251.14047, 252.53506, ..., 262.69183, 259.178  ,\n",
       "         262.9827 ],\n",
       "        ...,\n",
       "        [242.14735, 240.92616, 241.23035, ..., 242.0922 , 241.7931 ,\n",
       "         241.82674],\n",
       "        [242.13818, 241.82344, 242.1314 , ..., 242.27754, 242.24489,\n",
       "         242.33174],\n",
       "        [242.723  , 242.723  , 242.723  , ..., 242.723  , 242.723  ,\n",
       "         242.723  ]],\n",
       "\n",
       "       [[250.67587, 252.80922, 255.03995, ..., 267.99475, 268.30905,\n",
       "         268.43362],\n",
       "        [248.96523, 251.11914, 253.26604, ..., 266.54486, 265.03516,\n",
       "         268.7985 ],\n",
       "        [248.36375, 250.80844, 252.47934, ..., 265.3581 , 262.39072,\n",
       "         266.9127 ],\n",
       "        ...,\n",
       "        [239.83565, 239.68181, 240.28056, ..., 239.51257, 238.6671 ,\n",
       "         238.50052],\n",
       "        [238.66423, 238.79456, 239.16887, ..., 238.37862, 238.1994 ,\n",
       "         238.2821 ],\n",
       "        [238.82487, 238.82487, 238.82487, ..., 238.82487, 238.82487,\n",
       "         238.82487]]], dtype=float32)\n",
       "Coordinates:\n",
       "  * z           (z) float32 30.0 50.0 70.0 100.0 ... 700.0 850.0 925.0 1000.0\n",
       "  * latitudeb   (latitudeb) float32 50.0 52.5 55.0 57.5 ... 82.5 85.0 87.5 90.0\n",
       "  * longitudeb  (longitudeb) float32 311.25 315.0 318.75 ... 348.75 352.5 356.25"
      ]
     },
     "execution_count": 14,
     "metadata": {},
     "output_type": "execute_result"
    }
   ],
   "source": [
    "temperature = hcm3.ATMUPMDS('xosfb', 3000, 3010).temperature(mode_t='mean', zone=zone_n)\n",
    "temperature"
   ]
  },
  {
   "cell_type": "markdown",
   "metadata": {},
   "source": [
    "## OCNMDS"
   ]
  },
  {
   "cell_type": "code",
   "execution_count": 15,
   "metadata": {},
   "outputs": [],
   "source": [
    "zone_na = zones.Box(lon_min=310, lon_max=340, lat_min=50, lat_max=70, z_min=-205, z_max=-30)\n",
    "zone_n = zones.Box(lon_min=310, lat_min=50, z_min=-205)"
   ]
  },
  {
   "cell_type": "code",
   "execution_count": 16,
   "metadata": {
    "scrolled": false
   },
   "outputs": [
    {
     "name": "stdout",
     "output_type": "stream",
     "text": [
      "__ Importing <class 'paleoclim_leeds.hadcm3_processing.OCNMDS'>\n",
      "____ Paths generated for xosfb between years 3000 and 3010.\n",
      "____ Import succeeded.\n",
      "____ Coordinates imported in the HadCM3DS dataset.\n",
      "__ Importing SST.\n",
      "____ Data imported in the GeoDataArray instance.\n",
      "____ Coordinate imported in the GeoDataArray instance.\n",
      "____ Data compacted to the zone.\n"
     ]
    },
    {
     "name": "stderr",
     "output_type": "stream",
     "text": [
      "/nfs/see-fs-01_users/eeymr/.conda/envs/eeymr/lib/python3.7/site-packages/xarray/core/nanops.py:142: RuntimeWarning: Mean of empty slice\n",
      "  return np.nanmean(a, axis=axis, dtype=dtype)\n"
     ]
    },
    {
     "data": {
      "text/plain": [
       "lon: [310.0; 311.25; ...; 338.75; 340.0; 25]; lon_p: [310.0; 311.25; ...; 338.75; 340.0; 25]\n",
       "lonb: [310.625; 311.875; ...; 338.125; 339.375; 24]; lonb_p: [310.625; 311.875; ...; 338.125; 339.375; 24]\n",
       "lons: [1.25; 1.25; ...; 1.25; 1.25; 39]; lons_p: [1.25; 1.25; ...; 1.25; 1.25; 39]\n",
       "lat: [50.625; 51.875; ...; 68.125; 69.375; 16]; lat_p: [50.625; 51.875; ...; 68.125; 69.375; 16]\n",
       "latb: [50.0; 51.25; ...; 68.75; 70.0; 17]; latb_p: [48.75; 50.0; ...; 67.5; 68.75; 17]\n",
       "lats: [1.25; 1.25; ...; 1.25; 1.25; 31]; lats_p: [1.25; 1.25; ...; 1.25; 1.25; 31]\n",
       "z: [-164.8000030517578; -113.0; ...; -40.20000076293945; -30.0; 6]; z_p: [-164.8000030517578; -113.0; ...; -40.20000076293945; -30.0; 6]\n",
       "zb: [-203.6999969482422; -138.89999389648438; ...; -47.849998474121094; -35.099998474121094; 6]; zb_p: [-301.0; -203.6999969482422; ...; -67.0; -47.849998474121094; 6]\n",
       "zs: [64.80000305175781; 43.149993896484375; ...; 10.0; 10.0; 8]; zs_p: [97.30000305175781; 64.80000305175781; ...; 10.099998474121094; 10.0; 8]\n",
       "t: [3000-01-01 00:00:00; 3000-02-01 00:00:00; ...; 3010-11-01 00:00:00; 3010-12-01 00:00:00; 132]\n",
       "DATA: <xarray.DataArray 'temp_mm_uo' (latitude: 16, longitude: 25)>\n",
       "array([[-1.4979765 , -1.2926652 , -1.2968118 , -1.2703148 , -1.243257  ,\n",
       "        -1.1478702 , -0.95014143, -0.86646813, -0.78421175, -0.7227503 ,\n",
       "        -0.62758327, -0.5432328 , -0.43423086, -0.32157627, -0.17596196,\n",
       "         0.0045401 ,  0.14576526,  0.22587554,  0.32399836,  0.45856863,\n",
       "         0.6026151 ,  0.774547  ,  0.917806  ,  1.0242345 ,  1.3522091 ],\n",
       "       [-1.5176963 , -1.2978848 , -1.3035111 , -1.1941762 , -1.1946316 ,\n",
       "        -1.1270303 , -0.9459524 , -0.84570557, -0.7804229 , -0.7408292 ,\n",
       "        -0.65415066, -0.57906455, -0.45937848, -0.3230351 , -0.18396425,\n",
       "        -0.04762887,  0.05382231,  0.15333351,  0.25785217,  0.40562472,\n",
       "         0.590946  ,  0.79207087,  0.9407287 ,  1.0904976 ,  1.3715256 ],\n",
       "       [-1.457955  , -1.2694533 , -1.2673551 , -1.2142072 , -1.1828879 ,\n",
       "        -1.132943  , -0.9676418 , -0.88793   , -0.7908671 , -0.7502835 ,\n",
       "        -0.69121456, -0.6479163 , -0.5108923 , -0.36153045, -0.24581918,\n",
       "        -0.1094977 , -0.01402673,  0.07407209,  0.18107986,  0.33691975,\n",
       "         0.5265872 ,  0.74670875,  0.9297806 ,  1.1557597 ,  1.3824725 ],\n",
       "       [-1.3810625 , -1.2008514 , -1.1799966 , -1.1725119 , -1.1489245 ,\n",
       "        -1.0921832 , -0.935625  , -0.8851557 , -0.8787523 , -0.82690006,\n",
       "        -0.75471747, -0.67965984, -0.5546235 , -0.41285554, -0.27953106,\n",
       "        -0.11468275, -0.0311862 ,  0.04316017,  0.1584426 ,  0.2995915 ,\n",
       "         0.51302534,  0.7930257 ,  0.9923796 ,  1.323085  ,  1.5834155 ],\n",
       "       [-0.9312097 , -0.98529017, -1.1605536 , -0.9410031 , -0.9253442 ,\n",
       "        -0.75445527, -0.60576445, -0.6147879 , -0.70582277, -0.68478966,\n",
       "        -0.7071773 , -0.715271  , -0.5462845 , -0.40755007, -0.26182026,\n",
       "        -0.14319082, -0.01004272,  0.0581689 ,  0.15395033,  0.26322037,\n",
       "         0.45398661,  0.720125  ,  0.8934712 ,  1.1879474 ,  1.5344753 ],\n",
       "       [-0.8532055 , -0.7447496 , -0.7162256 , -0.5905756 , -0.5101627 ,\n",
       "        -0.4042104 , -0.3369581 , -0.31956294, -0.8316353 , -0.34312537,\n",
       "        -0.31297866, -0.40574658, -0.4461788 , -0.20380548, -0.10693568,\n",
       "        -0.06819101,  0.06205319,  0.20951968,  0.30304065,  0.45406368,\n",
       "         0.6734896 ,  0.96095914,  1.19674   ,  1.4557954 ,  1.637375  ],\n",
       "       [-0.8760168 , -0.8360786 , -0.75980926, -0.6874079 , -0.5496088 ,\n",
       "        -0.40504876, -0.26070312,  0.04973793, -0.2746252 ,  0.12014617,\n",
       "        -0.09393121, -0.02253112, -0.14866953, -0.42921287, -0.03988152,\n",
       "         0.0066085 ,  0.22244169,  0.28655455,  0.35751882,  0.40569422,\n",
       "         0.4148985 ,  0.6021511 ,  0.7698092 ,  0.98537666,  1.1794856 ],\n",
       "       [-0.83246356, -0.6020503 , -0.5151072 ,         nan,         nan,\n",
       "                nan, -0.54536855,  0.04493234,  0.19437882,  0.2479533 ,\n",
       "         0.8074876 ,  0.01346588,  1.053999  ,  0.44915244,  0.16686274,\n",
       "         0.49767494,  0.5111538 ,  0.7293518 ,  0.8021306 ,  1.0240139 ,\n",
       "         1.2838842 ,  1.4997674 ,  1.7139581 ,  2.102134  ,  2.3364341 ],\n",
       "       [-0.45652258, -0.44463423, -0.37564334,         nan,         nan,\n",
       "                nan, -1.0635438 , -0.62733275, -0.17434041, -0.09894267,\n",
       "         0.8337694 , -0.18377428,  1.3070673 ,  0.0798675 ,  1.159445  ,\n",
       "         0.8257477 ,  1.4286232 ,  1.643292  ,  1.9301496 ,  2.000058  ,\n",
       "         2.1265624 ,  2.2271426 ,  2.2579806 ,  2.1641417 ,  2.035335  ],\n",
       "       [        nan,         nan,         nan,         nan,         nan,\n",
       "                nan,         nan,         nan,         nan, -1.0635207 ,\n",
       "         0.65171957,  0.88973814,  1.0961142 ,  1.6057708 ,  1.210844  ,\n",
       "         1.5242375 ,  1.6226416 ,  1.6856445 ,  1.766652  ,  1.6103542 ,\n",
       "         1.5032153 ,  1.3393314 ,  1.1585227 ,  0.8458358 ,  0.74311674],\n",
       "       [        nan,         nan,         nan,         nan,         nan,\n",
       "                nan,         nan,         nan,         nan, -1.3005455 ,\n",
       "        -0.4799948 ,  0.8495795 ,  0.68910956,  1.579922  ,  1.0703337 ,\n",
       "         1.4906418 ,  1.1879267 ,  1.6416776 ,  1.3519233 ,  0.916784  ,\n",
       "         0.32479703, -0.18831915, -0.4078126 , -0.87927055, -0.871332  ],\n",
       "       [        nan,         nan,         nan,         nan,         nan,\n",
       "                nan,         nan,         nan,         nan, -1.446855  ,\n",
       "        -0.9343853 , -0.7533743 , -0.2862353 ,  0.03700468,  0.19048221,\n",
       "         0.15420657,  0.9473913 ,  0.50263095,  0.18464747,  0.20122744,\n",
       "        -0.08073503, -0.4209299 , -0.7660735 , -0.9469358 ,         nan],\n",
       "       [        nan,         nan,         nan,         nan,         nan,\n",
       "                nan,         nan,         nan,         nan, -1.7467479 ,\n",
       "        -1.6992512 , -1.5883677 , -1.6473503 , -1.3464489 , -1.2608356 ,\n",
       "        -1.2585276 , -0.01627856, -0.83949244, -0.40416253, -0.70364314,\n",
       "        -0.30741602, -0.5287658 , -0.71726596, -0.7075455 ,         nan],\n",
       "       [        nan,         nan,         nan,         nan,         nan,\n",
       "                nan,         nan,         nan,         nan,         nan,\n",
       "                nan,         nan,         nan,         nan,         nan,\n",
       "        -1.7598667 , -1.4364543 , -0.9756269 , -1.1872214 , -0.832488  ,\n",
       "        -0.9161942 , -0.9342406 , -1.1478555 , -1.2467539 , -1.5483569 ],\n",
       "       [        nan,         nan,         nan,         nan,         nan,\n",
       "                nan,         nan,         nan,         nan,         nan,\n",
       "                nan,         nan,         nan,         nan,         nan,\n",
       "        -1.7471418 , -1.7403226 , -1.6752902 , -1.7427301 , -1.6791734 ,\n",
       "        -1.596234  , -1.5528406 , -1.636766  , -1.6444718 , -1.759872  ],\n",
       "       [        nan,         nan,         nan,         nan,         nan,\n",
       "                nan,         nan,         nan,         nan,         nan,\n",
       "                nan,         nan,         nan,         nan,         nan,\n",
       "                nan,         nan,         nan,         nan,         nan,\n",
       "                nan,         nan,         nan,         nan, -1.7610303 ]],\n",
       "      dtype=float32)\n",
       "Coordinates:\n",
       "  * latitude   (latitude) float32 50.625 51.875 53.125 ... 66.875 68.125 69.375\n",
       "  * longitude  (longitude) float32 310.0 311.25 312.5 ... 337.5 338.75 340.0"
      ]
     },
     "execution_count": 16,
     "metadata": {},
     "output_type": "execute_result"
    }
   ],
   "source": [
    "sst = hcm3.OCNMDS('xosfb', 3000, 3010).sst(mode_t='mean', zone=zone_na)\n",
    "sst"
   ]
  },
  {
   "cell_type": "code",
   "execution_count": 17,
   "metadata": {},
   "outputs": [
    {
     "name": "stdout",
     "output_type": "stream",
     "text": [
      "__ Importing <class 'paleoclim_leeds.hadcm3_processing.OCNMDS'>\n",
      "____ Paths generated for xosfb between years 3000 and 3010.\n",
      "____ Import succeeded.\n",
      "____ Coordinates imported in the HadCM3DS dataset.\n",
      "__ Importing SST.\n",
      "____ Data imported in the GeoDataArray instance.\n",
      "____ Coordinate imported in the GeoDataArray instance.\n",
      "____ Data compacted to the zone.\n"
     ]
    },
    {
     "name": "stderr",
     "output_type": "stream",
     "text": [
      "/nfs/see-fs-01_users/eeymr/.conda/envs/eeymr/lib/python3.7/site-packages/xarray/core/nanops.py:142: RuntimeWarning: Mean of empty slice\n",
      "  return np.nanmean(a, axis=axis, dtype=dtype)\n"
     ]
    },
    {
     "data": {
      "text/plain": [
       "lon: [310.0; 311.25; ...; 357.5; 358.75; 40]; lon_p: [310.0; 311.25; ...; 357.5; 358.75; 40]\n",
       "lonb: [310.625; 311.875; ...; 358.125; 359.375; 40]; lonb_p: [310.625; 311.875; ...; 358.125; 359.375; 40]\n",
       "lons: [1.25; 1.25; ...; 1.25; 1.25; 287]; lons_p: [1.25; 1.25; ...; 1.25; 1.25; 288]\n",
       "lat: [50.625; 51.875; ...; 88.125; 89.375; 32]; lat_p: [50.625; 51.875; ...; 88.125; 89.375; 32]\n",
       "latb: [50.0; 51.25; ...; 87.5; 88.75; 32]; latb_p: [48.75; 50.0; ...; 86.25; 87.5; 32]\n",
       "lats: [1.25; 1.25; ...; 1.25; 1.25; 142]; lats_p: [1.25; 1.25; ...; 1.25; 1.25; 144]\n",
       "z: [-164.8000030517578; -113.0; ...; -20.0; -10.0; 8]; z_p: [-164.8000030517578; -113.0; ...; -20.0; -10.0; 8]\n",
       "zb: [-203.6999969482422; -138.89999389648438; ...; -15.0; -5.0; 9]; zb_p: [-301.0; -203.6999969482422; ...; -25.0; -15.0; 9]\n",
       "zs: [97.30000305175781; 64.80000305175781; ...; 10.0; 10.0; 9]; zs_p: [116.79998779296875; 97.30000305175781; ...; 10.0; 10.0; 10]\n",
       "t: [3000-01-01 00:00:00; 3000-02-01 00:00:00; ...; 3010-11-01 00:00:00; 3010-12-01 00:00:00; 132]\n",
       "DATA: <xarray.DataArray 'temp_mm_uo' (latitude: 32, longitude: 40)>\n",
       "array([[-1.4979765, -1.2926652, -1.2968118, ...,        nan,        nan,\n",
       "               nan],\n",
       "       [-1.5176963, -1.2978848, -1.3035111, ...,        nan,        nan,\n",
       "               nan],\n",
       "       [-1.457955 , -1.2694533, -1.2673551, ...,        nan,        nan,\n",
       "               nan],\n",
       "       ...,\n",
       "       [-1.6841024, -1.6847228, -1.6854163, ..., -1.7158571, -1.7154661,\n",
       "        -1.7149229],\n",
       "       [-1.6855521, -1.6852233, -1.6849738, ..., -1.6656003, -1.664147 ,\n",
       "        -1.6626862],\n",
       "       [       nan,        nan,        nan, ...,        nan,        nan,\n",
       "               nan]], dtype=float32)\n",
       "Coordinates:\n",
       "  * latitude   (latitude) float32 50.625 51.875 53.125 ... 86.875 88.125 89.375\n",
       "  * longitude  (longitude) float32 310.0 311.25 312.5 ... 356.25 357.5 358.75"
      ]
     },
     "execution_count": 17,
     "metadata": {},
     "output_type": "execute_result"
    }
   ],
   "source": [
    "sst = hcm3.OCNMDS('xosfb', 3000, 3010).sst(mode_t='mean', zone=zone_n)\n",
    "sst"
   ]
  },
  {
   "cell_type": "markdown",
   "metadata": {},
   "source": [
    "## OCNYDS"
   ]
  },
  {
   "cell_type": "code",
   "execution_count": 18,
   "metadata": {},
   "outputs": [],
   "source": [
    "zone_na = zones.Box(lon_min=310, lon_max=340, lat_min=50, lat_max=70, z_min=-205, z_max=-30)\n",
    "zone_n = zones.Box(lon_min=310, lat_min=50, z_min=-205)"
   ]
  },
  {
   "cell_type": "code",
   "execution_count": 19,
   "metadata": {},
   "outputs": [
    {
     "name": "stdout",
     "output_type": "stream",
     "text": [
      "__ Importing <class 'paleoclim_leeds.hadcm3_processing.OCNMDS'>\n",
      "____ Paths generated for xosfb between years 3000 and 3010.\n",
      "____ Import succeeded.\n",
      "____ Coordinates imported in the HadCM3DS dataset.\n",
      "__ Importing temperature.\n",
      "____ Data imported in the GeoDataArray instance.\n",
      "____ Coordinate imported in the GeoDataArray instance.\n",
      "____ Data compacted to the zone.\n"
     ]
    },
    {
     "data": {
      "text/plain": [
       "lon: [310.0; 311.25; ...; 338.75; 340.0; 25]; lon_p: [310.0; 311.25; ...; 338.75; 340.0; 25]\n",
       "lonb: [310.625; 311.875; ...; 338.125; 339.375; 24]; lonb_p: [310.625; 311.875; ...; 338.125; 339.375; 24]\n",
       "lons: [1.25; 1.25; ...; 1.25; 1.25; 39]; lons_p: [1.25; 1.25; ...; 1.25; 1.25; 39]\n",
       "lat: [50.625; 51.875; ...; 68.125; 69.375; 16]; lat_p: [50.625; 51.875; ...; 68.125; 69.375; 16]\n",
       "latb: [50.0; 51.25; ...; 68.75; 70.0; 17]; latb_p: [48.75; 50.0; ...; 67.5; 68.75; 17]\n",
       "lats: [1.25; 1.25; ...; 1.25; 1.25; 31]; lats_p: [1.25; 1.25; ...; 1.25; 1.25; 31]\n",
       "z: [-164.8000030517578; -113.0; ...; -40.20000076293945; -30.0; 6]; z_p: [-164.8000030517578; -113.0; ...; -40.20000076293945; -30.0; 6]\n",
       "zb: [-203.6999969482422; -138.89999389648438; ...; -47.849998474121094; -35.099998474121094; 6]; zb_p: [-301.0; -203.6999969482422; ...; -67.0; -47.849998474121094; 6]\n",
       "zs: [64.80000305175781; 43.149993896484375; ...; 10.0; 10.0; 8]; zs_p: [97.30000305175781; 64.80000305175781; ...; 10.099998474121094; 10.0; 8]\n",
       "t: [3000-01-01 00:00:00; 3000-02-01 00:00:00; ...; 3010-11-01 00:00:00; 3010-12-01 00:00:00; 132]\n",
       "DATA: <xarray.DataArray 'temp_mm_dpth' (zb: 0, latitude: 16, longitude: 25)>\n",
       "array([], shape=(0, 16, 25), dtype=float32)\n",
       "Coordinates:\n",
       "  * zb         (zb) float32 \n",
       "  * latitude   (latitude) float32 50.625 51.875 53.125 ... 66.875 68.125 69.375\n",
       "  * longitude  (longitude) float32 310.0 311.25 312.5 ... 337.5 338.75 340.0"
      ]
     },
     "execution_count": 19,
     "metadata": {},
     "output_type": "execute_result"
    }
   ],
   "source": [
    "temperature = hcm3.OCNMDS('xosfb', 3000, 3010).temperature(mode_t='mean', zone=zone_na)\n",
    "temperature"
   ]
  },
  {
   "cell_type": "code",
   "execution_count": 20,
   "metadata": {
    "scrolled": false
   },
   "outputs": [
    {
     "name": "stdout",
     "output_type": "stream",
     "text": [
      "__ Importing <class 'paleoclim_leeds.hadcm3_processing.OCNMDS'>\n",
      "____ Paths generated for xosfb between years 3000 and 3010.\n",
      "____ Import succeeded.\n",
      "____ Coordinates imported in the HadCM3DS dataset.\n",
      "__ Importing temperature.\n",
      "____ Data imported in the GeoDataArray instance.\n",
      "____ Coordinate imported in the GeoDataArray instance.\n",
      "____ Data compacted to the zone.\n"
     ]
    },
    {
     "name": "stderr",
     "output_type": "stream",
     "text": [
      "/nfs/see-fs-01_users/eeymr/.conda/envs/eeymr/lib/python3.7/site-packages/xarray/core/nanops.py:142: RuntimeWarning: Mean of empty slice\n",
      "  return np.nanmean(a, axis=axis, dtype=dtype)\n"
     ]
    },
    {
     "data": {
      "text/plain": [
       "lon: [310.0; 311.25; ...; 357.5; 358.75; 40]; lon_p: [310.0; 311.25; ...; 357.5; 358.75; 40]\n",
       "lonb: [310.625; 311.875; ...; 358.125; 359.375; 40]; lonb_p: [310.625; 311.875; ...; 358.125; 359.375; 40]\n",
       "lons: [1.25; 1.25; ...; 1.25; 1.25; 287]; lons_p: [1.25; 1.25; ...; 1.25; 1.25; 288]\n",
       "lat: [50.625; 51.875; ...; 88.125; 89.375; 32]; lat_p: [50.625; 51.875; ...; 88.125; 89.375; 32]\n",
       "latb: [50.0; 51.25; ...; 87.5; 88.75; 32]; latb_p: [48.75; 50.0; ...; 86.25; 87.5; 32]\n",
       "lats: [1.25; 1.25; ...; 1.25; 1.25; 142]; lats_p: [1.25; 1.25; ...; 1.25; 1.25; 144]\n",
       "z: [-164.8000030517578; -113.0; ...; -20.0; -10.0; 8]; z_p: [-164.8000030517578; -113.0; ...; -20.0; -10.0; 8]\n",
       "zb: [-203.6999969482422; -138.89999389648438; ...; -15.0; -5.0; 9]; zb_p: [-301.0; -203.6999969482422; ...; -25.0; -15.0; 9]\n",
       "zs: [97.30000305175781; 64.80000305175781; ...; 10.0; 10.0; 9]; zs_p: [116.79998779296875; 97.30000305175781; ...; 10.0; 10.0; 10]\n",
       "t: [3000-01-01 00:00:00; 3000-02-01 00:00:00; ...; 3010-11-01 00:00:00; 3010-12-01 00:00:00; 132]\n",
       "DATA: <xarray.DataArray 'temp_mm_dpth' (zb: 10, latitude: 32, longitude: 40)>\n",
       "array([[[-1.4979756 , -1.2926593 , -1.2968069 , ...,         nan,\n",
       "                 nan,         nan],\n",
       "        [-1.5176933 , -1.29788   , -1.3035043 , ...,         nan,\n",
       "                 nan,         nan],\n",
       "        [-1.4579508 , -1.2694517 , -1.2673492 , ...,         nan,\n",
       "                 nan,         nan],\n",
       "        ...,\n",
       "        [-1.6841029 , -1.6847227 , -1.685417  , ..., -1.715857  ,\n",
       "         -1.7154669 , -1.7149228 ],\n",
       "        [-1.6855526 , -1.6852238 , -1.6849738 , ..., -1.6656005 ,\n",
       "         -1.6641481 , -1.6626868 ],\n",
       "        [        nan,         nan,         nan, ...,         nan,\n",
       "                 nan,         nan]],\n",
       "\n",
       "       [[-1.498189  , -1.2908294 , -1.2945949 , ...,         nan,\n",
       "                 nan,         nan],\n",
       "        [-1.5163716 , -1.2944561 , -1.3003687 , ...,         nan,\n",
       "                 nan,         nan],\n",
       "        [-1.4554366 , -1.2649543 , -1.2632568 , ...,         nan,\n",
       "                 nan,         nan],\n",
       "        ...,\n",
       "        [-1.6836748 , -1.6843258 , -1.6850482 , ..., -1.7154413 ,\n",
       "         -1.7150455 , -1.7144948 ],\n",
       "        [-1.6852791 , -1.6849581 , -1.6847173 , ..., -1.6650311 ,\n",
       "         -1.6635671 , -1.6620929 ],\n",
       "        [        nan,         nan,         nan, ...,         nan,\n",
       "                 nan,         nan]],\n",
       "\n",
       "       [[-1.4878126 , -1.2340505 , -1.236434  , ...,         nan,\n",
       "                 nan,         nan],\n",
       "        [-1.4686427 , -1.1966574 , -1.1963505 , ...,         nan,\n",
       "                 nan,         nan],\n",
       "        [-1.4116958 , -1.1596813 , -1.1406726 , ...,         nan,\n",
       "                 nan,         nan],\n",
       "        ...,\n",
       "        [-1.6599879 , -1.6607008 , -1.6614541 , ..., -1.6955602 ,\n",
       "         -1.695209  , -1.6946287 ],\n",
       "        [-1.6678917 , -1.6674945 , -1.667165  , ..., -1.6409837 ,\n",
       "         -1.6392877 , -1.6375492 ],\n",
       "        [        nan,         nan,         nan, ...,         nan,\n",
       "                 nan,         nan]],\n",
       "\n",
       "       ...,\n",
       "\n",
       "       [[ 0.15760909,  0.5333583 ,  0.72114927, ...,         nan,\n",
       "                 nan,         nan],\n",
       "        [ 0.17961267,  0.7267585 ,  0.95682424, ...,         nan,\n",
       "                 nan,         nan],\n",
       "        [ 0.29981834,  0.7254736 ,  0.98293084, ...,         nan,\n",
       "                 nan,         nan],\n",
       "        ...,\n",
       "        [-0.75245214, -0.7420478 , -0.73170036, ..., -0.40608948,\n",
       "         -0.40385276, -0.40233228],\n",
       "        [-1.0070293 , -0.9981405 , -0.9890924 , ..., -0.67583126,\n",
       "         -0.6694249 , -0.66322017],\n",
       "        [        nan,         nan,         nan, ...,         nan,\n",
       "                 nan,         nan]],\n",
       "\n",
       "       [[ 1.0938991 ,  1.3427122 ,  1.4894822 , ...,         nan,\n",
       "                 nan,         nan],\n",
       "        [ 1.0719622 ,  1.4642916 ,  1.6658615 , ...,         nan,\n",
       "                 nan,         nan],\n",
       "        [ 1.1298295 ,  1.466509  ,  1.6861919 , ...,         nan,\n",
       "                 nan,         nan],\n",
       "        ...,\n",
       "        [ 0.16082387,  0.16928941,  0.17815779, ...,  0.49059683,\n",
       "          0.49373072,  0.4964114 ],\n",
       "        [ 0.12138971,  0.13043071,  0.13946635, ...,  0.3785994 ,\n",
       "          0.38208055,  0.38540748],\n",
       "        [        nan,         nan,         nan, ...,         nan,\n",
       "                 nan,         nan]],\n",
       "\n",
       "       [[ 1.897047  ,  2.0477605 ,  2.1586232 , ...,         nan,\n",
       "                 nan,         nan],\n",
       "        [ 1.8945739 ,  2.1497202 ,  2.2981324 , ...,         nan,\n",
       "                 nan,         nan],\n",
       "        [ 1.88816   ,  2.130695  ,  2.3168938 , ...,         nan,\n",
       "                 nan,         nan],\n",
       "        ...,\n",
       "        [ 1.3103952 ,  1.3179067 ,  1.3253305 , ...,  1.5384654 ,\n",
       "          1.5400349 ,  1.541157  ],\n",
       "        [ 1.3284268 ,  1.3337194 ,  1.3389235 , ...,  1.4543792 ,\n",
       "          1.4556895 ,  1.4568619 ],\n",
       "        [        nan,         nan,         nan, ...,         nan,\n",
       "                 nan,         nan]]], dtype=float32)\n",
       "Coordinates:\n",
       "  * zb         (zb) float32 5.0 15.0 25.0 35.1 47.85 ... 95.75 138.9 203.7 301.0\n",
       "  * latitude   (latitude) float32 50.625 51.875 53.125 ... 86.875 88.125 89.375\n",
       "  * longitude  (longitude) float32 310.0 311.25 312.5 ... 356.25 357.5 358.75"
      ]
     },
     "execution_count": 20,
     "metadata": {},
     "output_type": "execute_result"
    }
   ],
   "source": [
    "temperature = hcm3.OCNMDS('xosfb', 3000, 3010).temperature(mode_t='mean', zone=zone_n)\n",
    "temperature"
   ]
  },
  {
   "cell_type": "code",
   "execution_count": null,
   "metadata": {},
   "outputs": [],
   "source": []
  }
 ],
 "metadata": {
  "kernelspec": {
   "display_name": "Python 3",
   "language": "python",
   "name": "python3"
  },
  "language_info": {
   "codemirror_mode": {
    "name": "ipython",
    "version": 3
   },
   "file_extension": ".py",
   "mimetype": "text/x-python",
   "name": "python",
   "nbconvert_exporter": "python",
   "pygments_lexer": "ipython3",
   "version": "3.7.6"
  }
 },
 "nbformat": 4,
 "nbformat_minor": 2
}
